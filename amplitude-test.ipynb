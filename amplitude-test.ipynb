{
 "cells": [
  {
   "cell_type": "markdown",
   "metadata": {},
   "source": [
    "### Functions"
   ]
  },
  {
   "cell_type": "code",
   "execution_count": 1,
   "metadata": {},
   "outputs": [
    {
     "ename": "NameError",
     "evalue": "name 're' is not defined",
     "output_type": "error",
     "traceback": [
      "\u001b[0;31m---------------------------------------------------------------------------\u001b[0m",
      "\u001b[0;31mNameError\u001b[0m                                 Traceback (most recent call last)",
      "\u001b[0;32m<ipython-input-1-e1c22ef7b020>\u001b[0m in \u001b[0;36m<module>\u001b[0;34m\u001b[0m\n\u001b[0;32m----> 1\u001b[0;31m \u001b[0m_nsre\u001b[0m \u001b[0;34m=\u001b[0m \u001b[0mre\u001b[0m\u001b[0;34m.\u001b[0m\u001b[0mcompile\u001b[0m\u001b[0;34m(\u001b[0m\u001b[0;34m'([0-9]+)'\u001b[0m\u001b[0;34m)\u001b[0m\u001b[0;34m\u001b[0m\u001b[0;34m\u001b[0m\u001b[0m\n\u001b[0m\u001b[1;32m      2\u001b[0m \u001b[0;32mdef\u001b[0m \u001b[0mnatural_sort_key\u001b[0m\u001b[0;34m(\u001b[0m\u001b[0ms\u001b[0m\u001b[0;34m)\u001b[0m\u001b[0;34m:\u001b[0m\u001b[0;34m\u001b[0m\u001b[0;34m\u001b[0m\u001b[0m\n\u001b[1;32m      3\u001b[0m     return [int(text) if text.isdigit() else text.lower()\n\u001b[1;32m      4\u001b[0m             for text in re.split(_nsre, s)] \n",
      "\u001b[0;31mNameError\u001b[0m: name 're' is not defined"
     ]
    }
   ],
   "source": [
    "\n",
    "\n",
    "\n",
    "_nsre = re.compile('([0-9]+)')\n",
    "def natural_sort_key(s):\n",
    "    return [int(text) if text.isdigit() else text.lower()\n",
    "            for text in re.split(_nsre, s)] "
   ]
  },
  {
   "cell_type": "code",
   "execution_count": null,
   "metadata": {},
   "outputs": [],
   "source": [
    "import math\n",
    "from sklearn.preprocessing import MinMaxScaler\n",
    "from scipy.spatial.transform import Rotation as R\n",
    "\n"
   ]
  },
  {
   "cell_type": "code",
   "execution_count": 2,
   "metadata": {},
   "outputs": [],
   "source": [
    "def rotate(origin, point, angle):\n",
    "    ox, oy = origin\n",
    "    px, py = point\n",
    "\n",
    "    qx = ox + math.cos(angle) * (px - ox) - math.sin(angle) * (py - oy)\n",
    "    qy = oy + math.sin(angle) * (px - ox) + math.cos(angle) * (py - oy)\n",
    "    \n",
    "    return qx, qy\n",
    "\n",
    "def rotate2(origin, point, angle):\n",
    "    ox, oy = origin\n",
    "    px, py = point\n",
    "\n",
    "    qx = ox + math.cos(angle) * (px - ox) - math.sin(angle) * (py - oy)\n",
    "    qy = oy + math.sin(angle) * (px - ox) + math.cos(angle) * (py - oy)\n",
    "    \n",
    "    return qx, qy"
   ]
  },
  {
   "cell_type": "code",
   "execution_count": 3,
   "metadata": {},
   "outputs": [],
   "source": [
    "def getmaxbetween(x, y, xval1,xval2,ymin):\n",
    "    xnew = []\n",
    "    ynew = []\n",
    "    for index, value in enumerate(x):\n",
    "        if (value > xval1) & (value < xval2):\n",
    "            if (y[index] < ymin):\n",
    "                xnew.append(value)\n",
    "                ynew.append(y[index])\n",
    "    ymax = max(ynew)\n",
    "    #xpos = y.index(ymax)\n",
    "    return ymax"
   ]
  },
  {
   "cell_type": "code",
   "execution_count": 4,
   "metadata": {},
   "outputs": [],
   "source": [
    "timestep = 1\n",
    "z_pos = 1.0\n",
    "import fileinput\n",
    "from decimal import Decimal as D\n",
    "#Function to edit\n",
    "def getdf(filenames,timestep,z_pos):\n",
    "    t = 0\n",
    "    for file in filenames:\n",
    "        if t == timestep:\n",
    "            #print(file)\n",
    "            dfname =  pd.read_csv(file, delim_whitespace=True)\n",
    "            dfname.columns= ['x','y']\n",
    "        t = t + 1\n",
    "    return dfname"
   ]
  },
  {
   "cell_type": "code",
   "execution_count": 101,
   "metadata": {},
   "outputs": [],
   "source": [
    "theta = -0.268  # 90 degree\n",
    "ox, oy = 0, 0  # point to rotate about\n",
    "A = np.matrix([[np.cos(theta), -np.sin(theta)],\n",
    "               [np.sin(theta), np.cos(theta)]])\n",
    "\n",
    "\n",
    "import statistics\n",
    "#Get x,y and rotate from first\n",
    "def getxy(yminus,filenames,timestep,z_pos): #minus takes values 1 if water, anything else (manual) if flow\n",
    "    dfname = getdf(filenames,timestep,z_pos)\n",
    "    dfname = dfname.sort_values(by=['x'])\n",
    "    x = round(dfname[\"x\"],10)\n",
    "    y = round(dfname[\"y\"],10)\n",
    "    \n",
    "    #xy = np.column_stack((x,y))\n",
    "    #print(xy)\n",
    "    #w = np.zeros(xy.shape)\n",
    "    #xy_shifted = xy-np.array([ox,oy])\n",
    "    #for i,v in enumerate(xy_shifted):\n",
    "    #      w[i] = A @ v\n",
    "    \n",
    "    transform = []\n",
    "    origin = (0,0)\n",
    "    rad = -15.35000000000\n",
    "    x1 = [x - 1.338 for x in x1]\n",
    "    for j in range(len(x)):\n",
    "        point = (x[j], y[j] )\n",
    "        myplot = rotate(origin, point, math.radians(rad)) #prints x, y of rotaed point\n",
    "        myplot = (myplot[0], myplot[1]-dfname[\"y\"].iloc[-1])\n",
    "        transform.append(myplot) \n",
    "    #Then need to do the adjustment\n",
    "    \n",
    "    newdf = pd.DataFrame(transform,columns = ['x','y'])\n",
    "    #print(w)\n",
    "    \n",
    "    #Remove all values of x under a 1.338\n",
    "    #remove all values of y under 0....\n",
    "    return w, newdf"
   ]
  },
  {
   "cell_type": "markdown",
   "metadata": {},
   "source": [
    "### Plots"
   ]
  },
  {
   "cell_type": "code",
   "execution_count": 102,
   "metadata": {},
   "outputs": [],
   "source": [
    "myfolder = \"18.5_0.1/b_0.0/\" \n",
    "#myfolder = \"b_0.001_12_long_air2/\" \n",
    "water_filenames = sorted(glob.glob(myfolder + \"/water_elevation*.txt\"), key = natural_sort_key) \n",
    "#flow_filenames = sorted(glob.glob(\"/home/lbat537/nobackup/lily/three-phase/tilted_domain_final/bview_3d_mpi/flow*.csv\"), key = natural_sort_key) \n"
   ]
  },
  {
   "cell_type": "code",
   "execution_count": 103,
   "metadata": {},
   "outputs": [
    {
     "name": "stdout",
     "output_type": "stream",
     "text": [
      "[[0.00000e+00 8.73566e-04]\n",
      " [1.34150e-03 0.00000e+00]\n",
      " [1.95312e-03 8.00297e-04]\n",
      " ...\n",
      " [7.99805e+00 1.82893e+00]\n",
      " [7.99805e+00 1.82878e+00]\n",
      " [8.00000e+00 1.82916e+00]]\n",
      "[[ 2.31323214e-04  8.42381818e-04]\n",
      " [ 1.29361171e-03 -3.55233711e-04]\n",
      " [ 2.09531970e-03  2.54535599e-04]\n",
      " ...\n",
      " [ 8.19684588e+00 -3.54268889e-01]\n",
      " [ 8.19680615e+00 -3.54413535e-01]\n",
      " [ 8.19878717e+00 -3.54563466e-01]]\n"
     ]
    },
    {
     "data": {
      "text/plain": [
       "<matplotlib.collections.PathCollection at 0x2aaafa9b18e0>"
      ]
     },
     "execution_count": 103,
     "metadata": {},
     "output_type": "execute_result"
    },
    {
     "data": {
      "image/png": "[encoded data removed]",
      "text/plain": [
       "<Figure size 1872x144 with 1 Axes>"
      ]
     },
     "metadata": {
      "needs_background": "light"
     },
     "output_type": "display_data"
    }
   ],
   "source": [
    "fig = plt.figure(figsize=(26, 2))\n",
    "ax = fig.add_subplot(111)\n",
    "#def getxy(xminus,yminus,filenames,timestep,z_pos):\n",
    "w,newdf = getxy(1,water_filenames,300,2)\n",
    "#scaler=MinMaxScaler(feature_range=(0,6))\n",
    "#newdf[\"x\"]=scaler.fit_transform(newdf[[\"x\"]])\n",
    "plt.scatter(w[:,0],w[:,1], s=0.01)\n",
    "#ymax = getmaxbetween(newdf['x'],y,2,3,0.149)\n",
    "#xpos = y.index(ymax)\n",
    "#xmax = x[xpos]\n",
    "#plt.scatter(newdf[\"x\"], y, s = 0.001)\n",
    "#plt.ylim(-0,0.25)\n",
    "#print(x[xpos])\n",
    "#plt.annotate('Maximum surface elevation = ' + str(round(ymax,3)) +'m at t = 1.2', xy=(xmax, ymax), xytext=(xmax , ymax - 0.3),\n",
    "#            arrowprops=dict(facecolor='black', shrink=0.005))"
   ]
  },
  {
   "cell_type": "code",
   "execution_count": null,
   "metadata": {},
   "outputs": [],
   "source": [
    "\n"
   ]
  },
  {
   "cell_type": "markdown",
   "metadata": {},
   "source": [
    "## "
   ]
  },
  {
   "cell_type": "markdown",
   "metadata": {},
   "source": [
    "# "
   ]
  },
  {
   "cell_type": "code",
   "execution_count": 15,
   "metadata": {},
   "outputs": [],
   "source": [
    "#function which takes in df and distance and outputs array\n",
    "def output_list(list2append,newdf,xcoord):\n",
    "    print(xcoord)\n",
    "    indexNames = newdf[ round(newdf[\"x\"],3) != xcoord].index\n",
    "    newdf = newdf.drop(indexNames , inplace=True)\n",
    "    print(newdf)\n",
    "    newdf = newdf.reset_index()\n",
    "    newdf = newdf.query('y < 0.2')\n",
    "    list2append = list2append.append([t,newdf.iloc[0][\"y\"]])\n",
    "    return list2append"
   ]
  },
  {
   "cell_type": "code",
   "execution_count": 124,
   "metadata": {},
   "outputs": [
    {
     "data": {
      "text/plain": [
       "['39.5_0.1/b_0.02_11/water_elevation0.txt',\n",
       " '39.5_0.1/b_0.02_11/water_elevation1.txt',\n",
       " '39.5_0.1/b_0.02_11/water_elevation2.txt',\n",
       " '39.5_0.1/b_0.02_11/water_elevation3.txt',\n",
       " '39.5_0.1/b_0.02_11/water_elevation4.txt',\n",
       " '39.5_0.1/b_0.02_11/water_elevation5.txt',\n",
       " '39.5_0.1/b_0.02_11/water_elevation6.txt',\n",
       " '39.5_0.1/b_0.02_11/water_elevation7.txt',\n",
       " '39.5_0.1/b_0.02_11/water_elevation8.txt',\n",
       " '39.5_0.1/b_0.02_11/water_elevation9.txt',\n",
       " '39.5_0.1/b_0.02_11/water_elevation10.txt',\n",
       " '39.5_0.1/b_0.02_11/water_elevation11.txt',\n",
       " '39.5_0.1/b_0.02_11/water_elevation12.txt',\n",
       " '39.5_0.1/b_0.02_11/water_elevation13.txt',\n",
       " '39.5_0.1/b_0.02_11/water_elevation14.txt',\n",
       " '39.5_0.1/b_0.02_11/water_elevation15.txt',\n",
       " '39.5_0.1/b_0.02_11/water_elevation16.txt',\n",
       " '39.5_0.1/b_0.02_11/water_elevation17.txt',\n",
       " '39.5_0.1/b_0.02_11/water_elevation18.txt',\n",
       " '39.5_0.1/b_0.02_11/water_elevation19.txt',\n",
       " '39.5_0.1/b_0.02_11/water_elevation20.txt',\n",
       " '39.5_0.1/b_0.02_11/water_elevation21.txt',\n",
       " '39.5_0.1/b_0.02_11/water_elevation22.txt',\n",
       " '39.5_0.1/b_0.02_11/water_elevation23.txt',\n",
       " '39.5_0.1/b_0.02_11/water_elevation24.txt',\n",
       " '39.5_0.1/b_0.02_11/water_elevation25.txt',\n",
       " '39.5_0.1/b_0.02_11/water_elevation26.txt',\n",
       " '39.5_0.1/b_0.02_11/water_elevation27.txt',\n",
       " '39.5_0.1/b_0.02_11/water_elevation28.txt',\n",
       " '39.5_0.1/b_0.02_11/water_elevation29.txt',\n",
       " '39.5_0.1/b_0.02_11/water_elevation30.txt',\n",
       " '39.5_0.1/b_0.02_11/water_elevation31.txt',\n",
       " '39.5_0.1/b_0.02_11/water_elevation32.txt',\n",
       " '39.5_0.1/b_0.02_11/water_elevation33.txt',\n",
       " '39.5_0.1/b_0.02_11/water_elevation34.txt',\n",
       " '39.5_0.1/b_0.02_11/water_elevation35.txt',\n",
       " '39.5_0.1/b_0.02_11/water_elevation36.txt',\n",
       " '39.5_0.1/b_0.02_11/water_elevation37.txt',\n",
       " '39.5_0.1/b_0.02_11/water_elevation38.txt',\n",
       " '39.5_0.1/b_0.02_11/water_elevation39.txt',\n",
       " '39.5_0.1/b_0.02_11/water_elevation40.txt',\n",
       " '39.5_0.1/b_0.02_11/water_elevation41.txt',\n",
       " '39.5_0.1/b_0.02_11/water_elevation42.txt',\n",
       " '39.5_0.1/b_0.02_11/water_elevation43.txt',\n",
       " '39.5_0.1/b_0.02_11/water_elevation44.txt',\n",
       " '39.5_0.1/b_0.02_11/water_elevation45.txt',\n",
       " '39.5_0.1/b_0.02_11/water_elevation46.txt',\n",
       " '39.5_0.1/b_0.02_11/water_elevation47.txt',\n",
       " '39.5_0.1/b_0.02_11/water_elevation48.txt',\n",
       " '39.5_0.1/b_0.02_11/water_elevation49.txt',\n",
       " '39.5_0.1/b_0.02_11/water_elevation50.txt',\n",
       " '39.5_0.1/b_0.02_11/water_elevation51.txt',\n",
       " '39.5_0.1/b_0.02_11/water_elevation52.txt',\n",
       " '39.5_0.1/b_0.02_11/water_elevation53.txt',\n",
       " '39.5_0.1/b_0.02_11/water_elevation54.txt',\n",
       " '39.5_0.1/b_0.02_11/water_elevation55.txt',\n",
       " '39.5_0.1/b_0.02_11/water_elevation56.txt',\n",
       " '39.5_0.1/b_0.02_11/water_elevation57.txt',\n",
       " '39.5_0.1/b_0.02_11/water_elevation58.txt',\n",
       " '39.5_0.1/b_0.02_11/water_elevation59.txt',\n",
       " '39.5_0.1/b_0.02_11/water_elevation60.txt',\n",
       " '39.5_0.1/b_0.02_11/water_elevation61.txt',\n",
       " '39.5_0.1/b_0.02_11/water_elevation62.txt',\n",
       " '39.5_0.1/b_0.02_11/water_elevation63.txt',\n",
       " '39.5_0.1/b_0.02_11/water_elevation64.txt',\n",
       " '39.5_0.1/b_0.02_11/water_elevation65.txt',\n",
       " '39.5_0.1/b_0.02_11/water_elevation66.txt',\n",
       " '39.5_0.1/b_0.02_11/water_elevation67.txt',\n",
       " '39.5_0.1/b_0.02_11/water_elevation68.txt',\n",
       " '39.5_0.1/b_0.02_11/water_elevation69.txt',\n",
       " '39.5_0.1/b_0.02_11/water_elevation70.txt',\n",
       " '39.5_0.1/b_0.02_11/water_elevation71.txt',\n",
       " '39.5_0.1/b_0.02_11/water_elevation72.txt',\n",
       " '39.5_0.1/b_0.02_11/water_elevation73.txt',\n",
       " '39.5_0.1/b_0.02_11/water_elevation74.txt',\n",
       " '39.5_0.1/b_0.02_11/water_elevation75.txt',\n",
       " '39.5_0.1/b_0.02_11/water_elevation76.txt',\n",
       " '39.5_0.1/b_0.02_11/water_elevation77.txt',\n",
       " '39.5_0.1/b_0.02_11/water_elevation78.txt',\n",
       " '39.5_0.1/b_0.02_11/water_elevation79.txt',\n",
       " '39.5_0.1/b_0.02_11/water_elevation80.txt',\n",
       " '39.5_0.1/b_0.02_11/water_elevation81.txt',\n",
       " '39.5_0.1/b_0.02_11/water_elevation82.txt',\n",
       " '39.5_0.1/b_0.02_11/water_elevation83.txt',\n",
       " '39.5_0.1/b_0.02_11/water_elevation84.txt',\n",
       " '39.5_0.1/b_0.02_11/water_elevation85.txt',\n",
       " '39.5_0.1/b_0.02_11/water_elevation86.txt',\n",
       " '39.5_0.1/b_0.02_11/water_elevation87.txt',\n",
       " '39.5_0.1/b_0.02_11/water_elevation88.txt',\n",
       " '39.5_0.1/b_0.02_11/water_elevation89.txt',\n",
       " '39.5_0.1/b_0.02_11/water_elevation90.txt',\n",
       " '39.5_0.1/b_0.02_11/water_elevation91.txt',\n",
       " '39.5_0.1/b_0.02_11/water_elevation92.txt',\n",
       " '39.5_0.1/b_0.02_11/water_elevation93.txt',\n",
       " '39.5_0.1/b_0.02_11/water_elevation94.txt',\n",
       " '39.5_0.1/b_0.02_11/water_elevation95.txt',\n",
       " '39.5_0.1/b_0.02_11/water_elevation96.txt',\n",
       " '39.5_0.1/b_0.02_11/water_elevation97.txt',\n",
       " '39.5_0.1/b_0.02_11/water_elevation98.txt',\n",
       " '39.5_0.1/b_0.02_11/water_elevation99.txt',\n",
       " '39.5_0.1/b_0.02_11/water_elevation100.txt',\n",
       " '39.5_0.1/b_0.02_11/water_elevation101.txt',\n",
       " '39.5_0.1/b_0.02_11/water_elevation102.txt',\n",
       " '39.5_0.1/b_0.02_11/water_elevation103.txt',\n",
       " '39.5_0.1/b_0.02_11/water_elevation104.txt',\n",
       " '39.5_0.1/b_0.02_11/water_elevation105.txt',\n",
       " '39.5_0.1/b_0.02_11/water_elevation106.txt',\n",
       " '39.5_0.1/b_0.02_11/water_elevation107.txt',\n",
       " '39.5_0.1/b_0.02_11/water_elevation108.txt',\n",
       " '39.5_0.1/b_0.02_11/water_elevation109.txt',\n",
       " '39.5_0.1/b_0.02_11/water_elevation110.txt',\n",
       " '39.5_0.1/b_0.02_11/water_elevation111.txt',\n",
       " '39.5_0.1/b_0.02_11/water_elevation112.txt',\n",
       " '39.5_0.1/b_0.02_11/water_elevation113.txt',\n",
       " '39.5_0.1/b_0.02_11/water_elevation114.txt',\n",
       " '39.5_0.1/b_0.02_11/water_elevation115.txt',\n",
       " '39.5_0.1/b_0.02_11/water_elevation116.txt',\n",
       " '39.5_0.1/b_0.02_11/water_elevation117.txt',\n",
       " '39.5_0.1/b_0.02_11/water_elevation118.txt',\n",
       " '39.5_0.1/b_0.02_11/water_elevation119.txt',\n",
       " '39.5_0.1/b_0.02_11/water_elevation120.txt',\n",
       " '39.5_0.1/b_0.02_11/water_elevation121.txt',\n",
       " '39.5_0.1/b_0.02_11/water_elevation122.txt',\n",
       " '39.5_0.1/b_0.02_11/water_elevation123.txt',\n",
       " '39.5_0.1/b_0.02_11/water_elevation124.txt',\n",
       " '39.5_0.1/b_0.02_11/water_elevation125.txt',\n",
       " '39.5_0.1/b_0.02_11/water_elevation126.txt',\n",
       " '39.5_0.1/b_0.02_11/water_elevation127.txt',\n",
       " '39.5_0.1/b_0.02_11/water_elevation128.txt',\n",
       " '39.5_0.1/b_0.02_11/water_elevation129.txt',\n",
       " '39.5_0.1/b_0.02_11/water_elevation130.txt',\n",
       " '39.5_0.1/b_0.02_11/water_elevation131.txt',\n",
       " '39.5_0.1/b_0.02_11/water_elevation132.txt',\n",
       " '39.5_0.1/b_0.02_11/water_elevation133.txt',\n",
       " '39.5_0.1/b_0.02_11/water_elevation134.txt',\n",
       " '39.5_0.1/b_0.02_11/water_elevation135.txt',\n",
       " '39.5_0.1/b_0.02_11/water_elevation136.txt',\n",
       " '39.5_0.1/b_0.02_11/water_elevation137.txt',\n",
       " '39.5_0.1/b_0.02_11/water_elevation138.txt',\n",
       " '39.5_0.1/b_0.02_11/water_elevation139.txt',\n",
       " '39.5_0.1/b_0.02_11/water_elevation140.txt',\n",
       " '39.5_0.1/b_0.02_11/water_elevation141.txt',\n",
       " '39.5_0.1/b_0.02_11/water_elevation142.txt',\n",
       " '39.5_0.1/b_0.02_11/water_elevation143.txt',\n",
       " '39.5_0.1/b_0.02_11/water_elevation144.txt',\n",
       " '39.5_0.1/b_0.02_11/water_elevation145.txt',\n",
       " '39.5_0.1/b_0.02_11/water_elevation146.txt',\n",
       " '39.5_0.1/b_0.02_11/water_elevation147.txt',\n",
       " '39.5_0.1/b_0.02_11/water_elevation148.txt',\n",
       " '39.5_0.1/b_0.02_11/water_elevation149.txt',\n",
       " '39.5_0.1/b_0.02_11/water_elevation150.txt',\n",
       " '39.5_0.1/b_0.02_11/water_elevation151.txt',\n",
       " '39.5_0.1/b_0.02_11/water_elevation152.txt',\n",
       " '39.5_0.1/b_0.02_11/water_elevation153.txt',\n",
       " '39.5_0.1/b_0.02_11/water_elevation154.txt',\n",
       " '39.5_0.1/b_0.02_11/water_elevation155.txt',\n",
       " '39.5_0.1/b_0.02_11/water_elevation156.txt',\n",
       " '39.5_0.1/b_0.02_11/water_elevation157.txt',\n",
       " '39.5_0.1/b_0.02_11/water_elevation158.txt',\n",
       " '39.5_0.1/b_0.02_11/water_elevation159.txt',\n",
       " '39.5_0.1/b_0.02_11/water_elevation160.txt',\n",
       " '39.5_0.1/b_0.02_11/water_elevation161.txt',\n",
       " '39.5_0.1/b_0.02_11/water_elevation162.txt',\n",
       " '39.5_0.1/b_0.02_11/water_elevation163.txt',\n",
       " '39.5_0.1/b_0.02_11/water_elevation164.txt',\n",
       " '39.5_0.1/b_0.02_11/water_elevation165.txt',\n",
       " '39.5_0.1/b_0.02_11/water_elevation166.txt',\n",
       " '39.5_0.1/b_0.02_11/water_elevation167.txt',\n",
       " '39.5_0.1/b_0.02_11/water_elevation168.txt',\n",
       " '39.5_0.1/b_0.02_11/water_elevation169.txt',\n",
       " '39.5_0.1/b_0.02_11/water_elevation170.txt',\n",
       " '39.5_0.1/b_0.02_11/water_elevation171.txt',\n",
       " '39.5_0.1/b_0.02_11/water_elevation172.txt',\n",
       " '39.5_0.1/b_0.02_11/water_elevation173.txt',\n",
       " '39.5_0.1/b_0.02_11/water_elevation174.txt',\n",
       " '39.5_0.1/b_0.02_11/water_elevation175.txt',\n",
       " '39.5_0.1/b_0.02_11/water_elevation176.txt',\n",
       " '39.5_0.1/b_0.02_11/water_elevation177.txt',\n",
       " '39.5_0.1/b_0.02_11/water_elevation178.txt',\n",
       " '39.5_0.1/b_0.02_11/water_elevation179.txt',\n",
       " '39.5_0.1/b_0.02_11/water_elevation180.txt',\n",
       " '39.5_0.1/b_0.02_11/water_elevation181.txt',\n",
       " '39.5_0.1/b_0.02_11/water_elevation182.txt',\n",
       " '39.5_0.1/b_0.02_11/water_elevation183.txt',\n",
       " '39.5_0.1/b_0.02_11/water_elevation184.txt',\n",
       " '39.5_0.1/b_0.02_11/water_elevation185.txt',\n",
       " '39.5_0.1/b_0.02_11/water_elevation186.txt',\n",
       " '39.5_0.1/b_0.02_11/water_elevation187.txt',\n",
       " '39.5_0.1/b_0.02_11/water_elevation188.txt',\n",
       " '39.5_0.1/b_0.02_11/water_elevation189.txt',\n",
       " '39.5_0.1/b_0.02_11/water_elevation190.txt',\n",
       " '39.5_0.1/b_0.02_11/water_elevation191.txt',\n",
       " '39.5_0.1/b_0.02_11/water_elevation192.txt',\n",
       " '39.5_0.1/b_0.02_11/water_elevation193.txt',\n",
       " '39.5_0.1/b_0.02_11/water_elevation194.txt',\n",
       " '39.5_0.1/b_0.02_11/water_elevation195.txt',\n",
       " '39.5_0.1/b_0.02_11/water_elevation196.txt',\n",
       " '39.5_0.1/b_0.02_11/water_elevation197.txt',\n",
       " '39.5_0.1/b_0.02_11/water_elevation198.txt',\n",
       " '39.5_0.1/b_0.02_11/water_elevation199.txt',\n",
       " '39.5_0.1/b_0.02_11/water_elevation200.txt',\n",
       " '39.5_0.1/b_0.02_11/water_elevation201.txt',\n",
       " '39.5_0.1/b_0.02_11/water_elevation202.txt',\n",
       " '39.5_0.1/b_0.02_11/water_elevation203.txt',\n",
       " '39.5_0.1/b_0.02_11/water_elevation204.txt',\n",
       " '39.5_0.1/b_0.02_11/water_elevation205.txt',\n",
       " '39.5_0.1/b_0.02_11/water_elevation206.txt',\n",
       " '39.5_0.1/b_0.02_11/water_elevation207.txt',\n",
       " '39.5_0.1/b_0.02_11/water_elevation208.txt',\n",
       " '39.5_0.1/b_0.02_11/water_elevation209.txt',\n",
       " '39.5_0.1/b_0.02_11/water_elevation210.txt',\n",
       " '39.5_0.1/b_0.02_11/water_elevation211.txt',\n",
       " '39.5_0.1/b_0.02_11/water_elevation212.txt',\n",
       " '39.5_0.1/b_0.02_11/water_elevation213.txt',\n",
       " '39.5_0.1/b_0.02_11/water_elevation214.txt',\n",
       " '39.5_0.1/b_0.02_11/water_elevation215.txt',\n",
       " '39.5_0.1/b_0.02_11/water_elevation216.txt',\n",
       " '39.5_0.1/b_0.02_11/water_elevation217.txt',\n",
       " '39.5_0.1/b_0.02_11/water_elevation218.txt',\n",
       " '39.5_0.1/b_0.02_11/water_elevation219.txt',\n",
       " '39.5_0.1/b_0.02_11/water_elevation220.txt',\n",
       " '39.5_0.1/b_0.02_11/water_elevation221.txt',\n",
       " '39.5_0.1/b_0.02_11/water_elevation222.txt',\n",
       " '39.5_0.1/b_0.02_11/water_elevation223.txt',\n",
       " '39.5_0.1/b_0.02_11/water_elevation224.txt',\n",
       " '39.5_0.1/b_0.02_11/water_elevation225.txt',\n",
       " '39.5_0.1/b_0.02_11/water_elevation226.txt',\n",
       " '39.5_0.1/b_0.02_11/water_elevation227.txt',\n",
       " '39.5_0.1/b_0.02_11/water_elevation228.txt',\n",
       " '39.5_0.1/b_0.02_11/water_elevation229.txt',\n",
       " '39.5_0.1/b_0.02_11/water_elevation230.txt',\n",
       " '39.5_0.1/b_0.02_11/water_elevation231.txt',\n",
       " '39.5_0.1/b_0.02_11/water_elevation232.txt',\n",
       " '39.5_0.1/b_0.02_11/water_elevation233.txt',\n",
       " '39.5_0.1/b_0.02_11/water_elevation234.txt',\n",
       " '39.5_0.1/b_0.02_11/water_elevation235.txt',\n",
       " '39.5_0.1/b_0.02_11/water_elevation236.txt',\n",
       " '39.5_0.1/b_0.02_11/water_elevation237.txt',\n",
       " '39.5_0.1/b_0.02_11/water_elevation238.txt',\n",
       " '39.5_0.1/b_0.02_11/water_elevation239.txt',\n",
       " '39.5_0.1/b_0.02_11/water_elevation240.txt',\n",
       " '39.5_0.1/b_0.02_11/water_elevation241.txt',\n",
       " '39.5_0.1/b_0.02_11/water_elevation242.txt',\n",
       " '39.5_0.1/b_0.02_11/water_elevation243.txt',\n",
       " '39.5_0.1/b_0.02_11/water_elevation244.txt',\n",
       " '39.5_0.1/b_0.02_11/water_elevation245.txt',\n",
       " '39.5_0.1/b_0.02_11/water_elevation246.txt',\n",
       " '39.5_0.1/b_0.02_11/water_elevation247.txt',\n",
       " '39.5_0.1/b_0.02_11/water_elevation248.txt',\n",
       " '39.5_0.1/b_0.02_11/water_elevation249.txt',\n",
       " '39.5_0.1/b_0.02_11/water_elevation250.txt',\n",
       " '39.5_0.1/b_0.02_11/water_elevation251.txt',\n",
       " '39.5_0.1/b_0.02_11/water_elevation252.txt',\n",
       " '39.5_0.1/b_0.02_11/water_elevation253.txt',\n",
       " '39.5_0.1/b_0.02_11/water_elevation254.txt',\n",
       " '39.5_0.1/b_0.02_11/water_elevation255.txt',\n",
       " '39.5_0.1/b_0.02_11/water_elevation256.txt',\n",
       " '39.5_0.1/b_0.02_11/water_elevation257.txt',\n",
       " '39.5_0.1/b_0.02_11/water_elevation258.txt',\n",
       " '39.5_0.1/b_0.02_11/water_elevation259.txt',\n",
       " '39.5_0.1/b_0.02_11/water_elevation260.txt',\n",
       " '39.5_0.1/b_0.02_11/water_elevation261.txt',\n",
       " '39.5_0.1/b_0.02_11/water_elevation262.txt',\n",
       " '39.5_0.1/b_0.02_11/water_elevation263.txt',\n",
       " '39.5_0.1/b_0.02_11/water_elevation264.txt',\n",
       " '39.5_0.1/b_0.02_11/water_elevation265.txt',\n",
       " '39.5_0.1/b_0.02_11/water_elevation266.txt',\n",
       " '39.5_0.1/b_0.02_11/water_elevation267.txt',\n",
       " '39.5_0.1/b_0.02_11/water_elevation268.txt',\n",
       " '39.5_0.1/b_0.02_11/water_elevation269.txt',\n",
       " '39.5_0.1/b_0.02_11/water_elevation270.txt',\n",
       " '39.5_0.1/b_0.02_11/water_elevation271.txt',\n",
       " '39.5_0.1/b_0.02_11/water_elevation272.txt',\n",
       " '39.5_0.1/b_0.02_11/water_elevation273.txt',\n",
       " '39.5_0.1/b_0.02_11/water_elevation274.txt',\n",
       " '39.5_0.1/b_0.02_11/water_elevation275.txt',\n",
       " '39.5_0.1/b_0.02_11/water_elevation276.txt',\n",
       " '39.5_0.1/b_0.02_11/water_elevation277.txt',\n",
       " '39.5_0.1/b_0.02_11/water_elevation278.txt',\n",
       " '39.5_0.1/b_0.02_11/water_elevation279.txt',\n",
       " '39.5_0.1/b_0.02_11/water_elevation280.txt',\n",
       " '39.5_0.1/b_0.02_11/water_elevation281.txt',\n",
       " '39.5_0.1/b_0.02_11/water_elevation282.txt',\n",
       " '39.5_0.1/b_0.02_11/water_elevation283.txt',\n",
       " '39.5_0.1/b_0.02_11/water_elevation284.txt',\n",
       " '39.5_0.1/b_0.02_11/water_elevation285.txt',\n",
       " '39.5_0.1/b_0.02_11/water_elevation286.txt',\n",
       " '39.5_0.1/b_0.02_11/water_elevation287.txt',\n",
       " '39.5_0.1/b_0.02_11/water_elevation288.txt',\n",
       " '39.5_0.1/b_0.02_11/water_elevation289.txt',\n",
       " '39.5_0.1/b_0.02_11/water_elevation290.txt',\n",
       " '39.5_0.1/b_0.02_11/water_elevation291.txt',\n",
       " '39.5_0.1/b_0.02_11/water_elevation292.txt',\n",
       " '39.5_0.1/b_0.02_11/water_elevation293.txt',\n",
       " '39.5_0.1/b_0.02_11/water_elevation294.txt',\n",
       " '39.5_0.1/b_0.02_11/water_elevation295.txt',\n",
       " '39.5_0.1/b_0.02_11/water_elevation296.txt',\n",
       " '39.5_0.1/b_0.02_11/water_elevation297.txt',\n",
       " '39.5_0.1/b_0.02_11/water_elevation298.txt',\n",
       " '39.5_0.1/b_0.02_11/water_elevation299.txt',\n",
       " '39.5_0.1/b_0.02_11/water_elevation300.txt',\n",
       " '39.5_0.1/b_0.02_11/water_elevation301.txt',\n",
       " '39.5_0.1/b_0.02_11/water_elevation302.txt',\n",
       " '39.5_0.1/b_0.02_11/water_elevation303.txt',\n",
       " '39.5_0.1/b_0.02_11/water_elevation304.txt',\n",
       " '39.5_0.1/b_0.02_11/water_elevation305.txt',\n",
       " '39.5_0.1/b_0.02_11/water_elevation306.txt',\n",
       " '39.5_0.1/b_0.02_11/water_elevation307.txt',\n",
       " '39.5_0.1/b_0.02_11/water_elevation308.txt',\n",
       " '39.5_0.1/b_0.02_11/water_elevation309.txt',\n",
       " '39.5_0.1/b_0.02_11/water_elevation310.txt',\n",
       " '39.5_0.1/b_0.02_11/water_elevation311.txt',\n",
       " '39.5_0.1/b_0.02_11/water_elevation312.txt',\n",
       " '39.5_0.1/b_0.02_11/water_elevation313.txt',\n",
       " '39.5_0.1/b_0.02_11/water_elevation314.txt',\n",
       " '39.5_0.1/b_0.02_11/water_elevation315.txt',\n",
       " '39.5_0.1/b_0.02_11/water_elevation316.txt',\n",
       " '39.5_0.1/b_0.02_11/water_elevation317.txt',\n",
       " '39.5_0.1/b_0.02_11/water_elevation318.txt',\n",
       " '39.5_0.1/b_0.02_11/water_elevation319.txt',\n",
       " '39.5_0.1/b_0.02_11/water_elevation320.txt',\n",
       " '39.5_0.1/b_0.02_11/water_elevation321.txt',\n",
       " '39.5_0.1/b_0.02_11/water_elevation322.txt',\n",
       " '39.5_0.1/b_0.02_11/water_elevation323.txt',\n",
       " '39.5_0.1/b_0.02_11/water_elevation324.txt',\n",
       " '39.5_0.1/b_0.02_11/water_elevation325.txt',\n",
       " '39.5_0.1/b_0.02_11/water_elevation326.txt',\n",
       " '39.5_0.1/b_0.02_11/water_elevation327.txt',\n",
       " '39.5_0.1/b_0.02_11/water_elevation328.txt',\n",
       " '39.5_0.1/b_0.02_11/water_elevation329.txt',\n",
       " '39.5_0.1/b_0.02_11/water_elevation330.txt',\n",
       " '39.5_0.1/b_0.02_11/water_elevation331.txt',\n",
       " '39.5_0.1/b_0.02_11/water_elevation332.txt',\n",
       " '39.5_0.1/b_0.02_11/water_elevation333.txt',\n",
       " '39.5_0.1/b_0.02_11/water_elevation334.txt',\n",
       " '39.5_0.1/b_0.02_11/water_elevation335.txt',\n",
       " '39.5_0.1/b_0.02_11/water_elevation336.txt',\n",
       " '39.5_0.1/b_0.02_11/water_elevation337.txt',\n",
       " '39.5_0.1/b_0.02_11/water_elevation338.txt',\n",
       " '39.5_0.1/b_0.02_11/water_elevation339.txt',\n",
       " '39.5_0.1/b_0.02_11/water_elevation340.txt',\n",
       " '39.5_0.1/b_0.02_11/water_elevation341.txt',\n",
       " '39.5_0.1/b_0.02_11/water_elevation342.txt',\n",
       " '39.5_0.1/b_0.02_11/water_elevation343.txt',\n",
       " '39.5_0.1/b_0.02_11/water_elevation344.txt',\n",
       " '39.5_0.1/b_0.02_11/water_elevation345.txt',\n",
       " '39.5_0.1/b_0.02_11/water_elevation346.txt',\n",
       " '39.5_0.1/b_0.02_11/water_elevation347.txt',\n",
       " '39.5_0.1/b_0.02_11/water_elevation348.txt',\n",
       " '39.5_0.1/b_0.02_11/water_elevation349.txt',\n",
       " '39.5_0.1/b_0.02_11/water_elevation350.txt',\n",
       " '39.5_0.1/b_0.02_11/water_elevation351.txt',\n",
       " '39.5_0.1/b_0.02_11/water_elevation352.txt',\n",
       " '39.5_0.1/b_0.02_11/water_elevation353.txt',\n",
       " '39.5_0.1/b_0.02_11/water_elevation354.txt',\n",
       " '39.5_0.1/b_0.02_11/water_elevation355.txt',\n",
       " '39.5_0.1/b_0.02_11/water_elevation356.txt',\n",
       " '39.5_0.1/b_0.02_11/water_elevation357.txt',\n",
       " '39.5_0.1/b_0.02_11/water_elevation358.txt',\n",
       " '39.5_0.1/b_0.02_11/water_elevation359.txt',\n",
       " '39.5_0.1/b_0.02_11/water_elevation360.txt',\n",
       " '39.5_0.1/b_0.02_11/water_elevation361.txt',\n",
       " '39.5_0.1/b_0.02_11/water_elevation362.txt',\n",
       " '39.5_0.1/b_0.02_11/water_elevation363.txt',\n",
       " '39.5_0.1/b_0.02_11/water_elevation364.txt',\n",
       " '39.5_0.1/b_0.02_11/water_elevation365.txt',\n",
       " '39.5_0.1/b_0.02_11/water_elevation366.txt',\n",
       " '39.5_0.1/b_0.02_11/water_elevation367.txt',\n",
       " '39.5_0.1/b_0.02_11/water_elevation368.txt',\n",
       " '39.5_0.1/b_0.02_11/water_elevation369.txt',\n",
       " '39.5_0.1/b_0.02_11/water_elevation370.txt',\n",
       " '39.5_0.1/b_0.02_11/water_elevation371.txt',\n",
       " '39.5_0.1/b_0.02_11/water_elevation372.txt',\n",
       " '39.5_0.1/b_0.02_11/water_elevation373.txt',\n",
       " '39.5_0.1/b_0.02_11/water_elevation374.txt',\n",
       " '39.5_0.1/b_0.02_11/water_elevation375.txt',\n",
       " '39.5_0.1/b_0.02_11/water_elevation376.txt',\n",
       " '39.5_0.1/b_0.02_11/water_elevation377.txt',\n",
       " '39.5_0.1/b_0.02_11/water_elevation378.txt',\n",
       " '39.5_0.1/b_0.02_11/water_elevation379.txt',\n",
       " '39.5_0.1/b_0.02_11/water_elevation380.txt',\n",
       " '39.5_0.1/b_0.02_11/water_elevation381.txt',\n",
       " '39.5_0.1/b_0.02_11/water_elevation382.txt',\n",
       " '39.5_0.1/b_0.02_11/water_elevation383.txt',\n",
       " '39.5_0.1/b_0.02_11/water_elevation384.txt',\n",
       " '39.5_0.1/b_0.02_11/water_elevation385.txt',\n",
       " '39.5_0.1/b_0.02_11/water_elevation386.txt',\n",
       " '39.5_0.1/b_0.02_11/water_elevation387.txt',\n",
       " '39.5_0.1/b_0.02_11/water_elevation388.txt',\n",
       " '39.5_0.1/b_0.02_11/water_elevation389.txt',\n",
       " '39.5_0.1/b_0.02_11/water_elevation390.txt',\n",
       " '39.5_0.1/b_0.02_11/water_elevation391.txt',\n",
       " '39.5_0.1/b_0.02_11/water_elevation392.txt',\n",
       " '39.5_0.1/b_0.02_11/water_elevation393.txt',\n",
       " '39.5_0.1/b_0.02_11/water_elevation394.txt',\n",
       " '39.5_0.1/b_0.02_11/water_elevation395.txt',\n",
       " '39.5_0.1/b_0.02_11/water_elevation396.txt',\n",
       " '39.5_0.1/b_0.02_11/water_elevation397.txt',\n",
       " '39.5_0.1/b_0.02_11/water_elevation398.txt',\n",
       " '39.5_0.1/b_0.02_11/water_elevation399.txt',\n",
       " '39.5_0.1/b_0.02_11/water_elevation400.txt',\n",
       " '39.5_0.1/b_0.02_11/water_elevation401.txt',\n",
       " '39.5_0.1/b_0.02_11/water_elevation402.txt']"
      ]
     },
     "execution_count": 124,
     "metadata": {},
     "output_type": "execute_result"
    }
   ],
   "source": [
    "myfolder = \"39.5_0.1/b_0.02_11/\" \n",
    "#myfolder = \"b_0.001_12_long_air2/\" \n",
    "water_filenames = sorted(glob.glob(myfolder + \"/water_elevation*.txt\"), key = natural_sort_key) \n",
    "water_filenames"
   ]
  },
  {
   "cell_type": "code",
   "execution_count": null,
   "metadata": {},
   "outputs": [],
   "source": []
  },
  {
   "cell_type": "code",
   "execution_count": 157,
   "metadata": {},
   "outputs": [],
   "source": [
    "\n",
    "def get_all_elevations(Hi, visc, b):\n",
    "    print(\"Hi\")\n",
    "    t = 0.03\n",
    "    myplot150 = []\n",
    "    myplot175 = []\n",
    "    myplot200 = []\n",
    "    myplot225 = []\n",
    "    myplot250 = []\n",
    "    myplot275 = []\n",
    "    myplot300 = []\n",
    "\n",
    "    \n",
    "    myfolder = str(Hi)+'_'+str(visc)+'/b_'+str(b) \n",
    "    print(myfolder)\n",
    "    #myfolder = \"b_0.001_12_long_air2/\" \n",
    "    water_filenames = sorted(glob.glob(myfolder + \"/water_elevation*.txt\"), key = natural_sort_key) \n",
    "    print(len(water_filenames))\n",
    "    for ctr in range(3,len(water_filenames),1):\n",
    "        x,y,newdf = getxy(1,water_filenames,ctr,0)\n",
    "        #print(t)\n",
    "        try:\n",
    "            newdf = newdf.round({'x': 3, 'y': 4})\n",
    "            #print(min(newdf['x']))\n",
    "            #scaler=MinMaxScaler(feature_range=(0,6))\n",
    "            #newdf[\"xnew\"]=scaler.fit_transform(newdf[[\"x\"]])\n",
    "\n",
    "            newdf[\"xnew\"]=newdf[[\"x\"]]\n",
    "            newdf150 = newdf.copy()\n",
    "            newdf175 = newdf.copy()\n",
    "            newdf200 = newdf.copy()\n",
    "            newdf225 = newdf.copy()\n",
    "            newdf250 = newdf.copy()\n",
    "            newdf275 = newdf.copy()\n",
    "            newdf300 = newdf.copy()\n",
    "\n",
    "            indexNames150 = newdf[ round(newdf150['xnew'],3) != 2.84].index\n",
    "            indexNames175 = newdf[ round(newdf175['xnew'],3) != 3.088].index\n",
    "            indexNames200 = newdf[ round(newdf200['xnew'],3) != 3.338].index\n",
    "            indexNames225 = newdf[ round(newdf225['xnew'],3) != 3.558].index\n",
    "            indexNames250 = newdf[ round(newdf250['xnew'],3) != 3.838].index\n",
    "            indexNames275 = newdf[ round(newdf275['xnew'],3) != 4.088].index\n",
    "            indexNames300 = newdf[ round(newdf250['xnew'],3) != 4.338].index\n",
    "\n",
    "            \n",
    "\n",
    "            newdf150.drop(indexNames150 , inplace=True)\n",
    "            newdf175.drop(indexNames175 , inplace=True)\n",
    "            #print(newdf15)\n",
    "            newdf200.drop(indexNames200 , inplace=True)\n",
    "            newdf225.drop(indexNames225 , inplace=True)\n",
    "            newdf275.drop(indexNames275 , inplace=True)\n",
    "            newdf250.drop(indexNames250 , inplace=True)\n",
    "            newdf300.drop(indexNames300, inplace=True)\n",
    "\n",
    "            newdf150 = newdf150.reset_index()\n",
    "            newdf150 = newdf150.query('y < 0.22')\n",
    "            \n",
    "            newdf175 = newdf175.reset_index()\n",
    "            newdf175 = newdf175.query('y < 0.22')\n",
    "\n",
    "            newdf200 = newdf200.reset_index()\n",
    "            newdf200 = newdf200.query('y < 0.22')\n",
    "\n",
    "            newdf225 = newdf225.reset_index()\n",
    "            newdf225 = newdf225.query('y < 0.22')\n",
    "\n",
    "            newdf275 = newdf275.reset_index()\n",
    "            newdf275 = newdf275.query('y < 0.22')\n",
    "\n",
    "            newdf250 = newdf250.reset_index()\n",
    "            newdf250 = newdf250.query('y < 0.22')\n",
    "\n",
    "            newdf300 = newdf300.reset_index()\n",
    "            newdf300 = newdf300.query('y < 0.22')\n",
    "            \n",
    "            #need to find the difference between t = 0 and t at ymax\n",
    "            #myplot.append((t,df_old[\"Points:1\"]))\n",
    "            myplot150.append([t,newdf150.iloc[0][\"y\"]])\n",
    "            myplot175.append([t,newdf175.iloc[0][\"y\"]])\n",
    "            myplot200.append([t,newdf200.iloc[0][\"y\"]])\n",
    "            myplot225.append([t,newdf225.iloc[0][\"y\"]])\n",
    "            myplot250.append([t,newdf250.iloc[0][\"y\"]])\n",
    "            myplot275.append([t,newdf275.iloc[0][\"y\"]])\n",
    "            myplot300.append([t,newdf300.iloc[0][\"y\"]])\n",
    "\n",
    "            t = t + 0.01\n",
    "        except:\n",
    "            t = t + 0.01\n",
    "            continue\n",
    "    \n",
    "    np.savetxt(myfolder+'/bwave_gauge_150cm.txt', myplot150, fmt='%1.3f')\n",
    "    np.savetxt(myfolder+'/bwave_gauge_175cm.txt', myplot175, fmt='%1.3f')\n",
    "    np.savetxt(myfolder+'/bwave_gauge_200cm.txt', myplot200, fmt='%1.3f')\n",
    "    np.savetxt(myfolder+'/bwave_gauge_250cm.txt', myplot250, fmt='%1.3f')\n",
    "    np.savetxt(myfolder+'/bwave_gauge_225cm.txt', myplot225, fmt='%1.3f')\n",
    "    np.savetxt(myfolder+'/bwave_gauge_275cm.txt', myplot275, fmt='%1.3f')\n",
    "    np.savetxt(myfolder+'/bwave_gauge_300cm.txt', myplot300, fmt='%1.3f')\n",
    "    \n",
    "    \n",
    "        "
   ]
  },
  {
   "cell_type": "code",
   "execution_count": 158,
   "metadata": {},
   "outputs": [
    {
     "name": "stdout",
     "output_type": "stream",
     "text": [
      "Hi\n",
      "18.5_0.1/b_0.0\n",
      "451\n"
     ]
    }
   ],
   "source": [
    "\n",
    "for Hi in [18.5]:\n",
    "    for visc in [0.1]:\n",
    "        for b in [0.0]:\n",
    "            get_all_elevations(Hi, visc, b)"
   ]
  },
  {
   "cell_type": "code",
   "execution_count": 153,
   "metadata": {},
   "outputs": [
    {
     "name": "stdout",
     "output_type": "stream",
     "text": [
      "Hi\n",
      "39.5_0.1/b_0.0\n",
      "156\n",
      "Hi\n",
      "39.5_0.1/b_0.001\n",
      "451\n",
      "Hi\n",
      "39.5_0.1/b_0.005\n",
      "382\n",
      "Hi\n",
      "39.5_0.1/b_0.01\n",
      "300\n",
      "Hi\n",
      "39.5_0.1/b_0.02\n",
      "165\n",
      "Hi\n",
      "39.5_0.1/b_0.04\n",
      "451\n",
      "Hi\n",
      "39.5_0.1/b_1\n",
      "451\n",
      "Hi\n",
      "39.5_0.01/b_0.0\n",
      "312\n",
      "Hi\n",
      "39.5_0.01/b_0.001\n",
      "101\n",
      "Hi\n",
      "39.5_0.01/b_0.005\n",
      "0\n",
      "Hi\n",
      "39.5_0.01/b_0.01\n",
      "154\n"
     ]
    },
    {
     "ename": "KeyboardInterrupt",
     "evalue": "",
     "output_type": "error",
     "traceback": [
      "\u001b[0;31m---------------------------------------------------------------------------\u001b[0m",
      "\u001b[0;31mKeyboardInterrupt\u001b[0m                         Traceback (most recent call last)",
      "\u001b[0;32m<ipython-input-153-920ae990a0c4>\u001b[0m in \u001b[0;36m<module>\u001b[0;34m\u001b[0m\n\u001b[1;32m      2\u001b[0m     \u001b[0;32mfor\u001b[0m \u001b[0mvisc\u001b[0m \u001b[0;32min\u001b[0m \u001b[0;34m[\u001b[0m\u001b[0;36m0.1\u001b[0m\u001b[0;34m,\u001b[0m\u001b[0;36m0.01\u001b[0m\u001b[0;34m]\u001b[0m\u001b[0;34m:\u001b[0m\u001b[0;34m\u001b[0m\u001b[0;34m\u001b[0m\u001b[0m\n\u001b[1;32m      3\u001b[0m         \u001b[0;32mfor\u001b[0m \u001b[0mb\u001b[0m \u001b[0;32min\u001b[0m \u001b[0;34m[\u001b[0m\u001b[0;36m0.0\u001b[0m\u001b[0;34m,\u001b[0m\u001b[0;36m0.001\u001b[0m\u001b[0;34m,\u001b[0m\u001b[0;36m0.005\u001b[0m\u001b[0;34m,\u001b[0m\u001b[0;36m0.01\u001b[0m\u001b[0;34m,\u001b[0m\u001b[0;36m0.02\u001b[0m\u001b[0;34m,\u001b[0m\u001b[0;36m0.04\u001b[0m\u001b[0;34m,\u001b[0m\u001b[0;36m1\u001b[0m\u001b[0;34m]\u001b[0m\u001b[0;34m:\u001b[0m\u001b[0;34m\u001b[0m\u001b[0;34m\u001b[0m\u001b[0m\n\u001b[0;32m----> 4\u001b[0;31m             \u001b[0mget_all_elevations\u001b[0m\u001b[0;34m(\u001b[0m\u001b[0mHi\u001b[0m\u001b[0;34m,\u001b[0m \u001b[0mvisc\u001b[0m\u001b[0;34m,\u001b[0m \u001b[0mb\u001b[0m\u001b[0;34m)\u001b[0m\u001b[0;34m\u001b[0m\u001b[0;34m\u001b[0m\u001b[0m\n\u001b[0m\u001b[1;32m      5\u001b[0m \u001b[0;34m\u001b[0m\u001b[0m\n",
      "\u001b[0;32m<ipython-input-150-6548c35c55dc>\u001b[0m in \u001b[0;36mget_all_elevations\u001b[0;34m(Hi, visc, b)\u001b[0m\n\u001b[1;32m     17\u001b[0m     \u001b[0mprint\u001b[0m\u001b[0;34m(\u001b[0m\u001b[0mlen\u001b[0m\u001b[0;34m(\u001b[0m\u001b[0mwater_filenames\u001b[0m\u001b[0;34m)\u001b[0m\u001b[0;34m)\u001b[0m\u001b[0;34m\u001b[0m\u001b[0;34m\u001b[0m\u001b[0m\n\u001b[1;32m     18\u001b[0m     \u001b[0;32mfor\u001b[0m \u001b[0mctr\u001b[0m \u001b[0;32min\u001b[0m \u001b[0mrange\u001b[0m\u001b[0;34m(\u001b[0m\u001b[0;36m3\u001b[0m\u001b[0;34m,\u001b[0m\u001b[0mlen\u001b[0m\u001b[0;34m(\u001b[0m\u001b[0mwater_filenames\u001b[0m\u001b[0;34m)\u001b[0m\u001b[0;34m,\u001b[0m\u001b[0;36m1\u001b[0m\u001b[0;34m)\u001b[0m\u001b[0;34m:\u001b[0m\u001b[0;34m\u001b[0m\u001b[0;34m\u001b[0m\u001b[0m\n\u001b[0;32m---> 19\u001b[0;31m         \u001b[0mx\u001b[0m\u001b[0;34m,\u001b[0m\u001b[0my\u001b[0m\u001b[0;34m,\u001b[0m\u001b[0mnewdf\u001b[0m \u001b[0;34m=\u001b[0m \u001b[0mgetxy\u001b[0m\u001b[0;34m(\u001b[0m\u001b[0;36m1\u001b[0m\u001b[0;34m,\u001b[0m\u001b[0mwater_filenames\u001b[0m\u001b[0;34m,\u001b[0m\u001b[0mctr\u001b[0m\u001b[0;34m,\u001b[0m\u001b[0;36m0\u001b[0m\u001b[0;34m)\u001b[0m\u001b[0;34m\u001b[0m\u001b[0;34m\u001b[0m\u001b[0m\n\u001b[0m\u001b[1;32m     20\u001b[0m         \u001b[0;31m#print(t)\u001b[0m\u001b[0;34m\u001b[0m\u001b[0;34m\u001b[0m\u001b[0;34m\u001b[0m\u001b[0m\n\u001b[1;32m     21\u001b[0m         \u001b[0;32mtry\u001b[0m\u001b[0;34m:\u001b[0m\u001b[0;34m\u001b[0m\u001b[0;34m\u001b[0m\u001b[0m\n",
      "\u001b[0;32m<ipython-input-5-b6edc0f3ca60>\u001b[0m in \u001b[0;36mgetxy\u001b[0;34m(yminus, filenames, timestep, z_pos)\u001b[0m\n\u001b[1;32m     27\u001b[0m     \u001b[0;31m#x1 = [x - 1.338 for x in x1]\u001b[0m\u001b[0;34m\u001b[0m\u001b[0;34m\u001b[0m\u001b[0;34m\u001b[0m\u001b[0m\n\u001b[1;32m     28\u001b[0m     \u001b[0;32mfor\u001b[0m \u001b[0mj\u001b[0m \u001b[0;32min\u001b[0m \u001b[0mrange\u001b[0m\u001b[0;34m(\u001b[0m\u001b[0mlen\u001b[0m\u001b[0;34m(\u001b[0m\u001b[0mx1\u001b[0m\u001b[0;34m)\u001b[0m\u001b[0;34m)\u001b[0m\u001b[0;34m:\u001b[0m\u001b[0;34m\u001b[0m\u001b[0;34m\u001b[0m\u001b[0m\n\u001b[0;32m---> 29\u001b[0;31m         \u001b[0mpoint\u001b[0m \u001b[0;34m=\u001b[0m \u001b[0;34m(\u001b[0m\u001b[0mx1\u001b[0m\u001b[0;34m[\u001b[0m\u001b[0mj\u001b[0m\u001b[0;34m]\u001b[0m\u001b[0;34m,\u001b[0m \u001b[0my1\u001b[0m\u001b[0;34m[\u001b[0m\u001b[0mj\u001b[0m\u001b[0;34m]\u001b[0m \u001b[0;34m)\u001b[0m\u001b[0;34m\u001b[0m\u001b[0;34m\u001b[0m\u001b[0m\n\u001b[0m\u001b[1;32m     30\u001b[0m         \u001b[0mmyplot\u001b[0m \u001b[0;34m=\u001b[0m \u001b[0mrotate\u001b[0m\u001b[0;34m(\u001b[0m\u001b[0morigin\u001b[0m\u001b[0;34m,\u001b[0m \u001b[0mpoint\u001b[0m\u001b[0;34m,\u001b[0m \u001b[0mmath\u001b[0m\u001b[0;34m.\u001b[0m\u001b[0mradians\u001b[0m\u001b[0;34m(\u001b[0m\u001b[0mrad\u001b[0m\u001b[0;34m)\u001b[0m\u001b[0;34m)\u001b[0m \u001b[0;31m#prints x, y of rotaed point\u001b[0m\u001b[0;34m\u001b[0m\u001b[0;34m\u001b[0m\u001b[0m\n\u001b[1;32m     31\u001b[0m         \u001b[0mmyplot\u001b[0m \u001b[0;34m=\u001b[0m \u001b[0;34m(\u001b[0m\u001b[0mmyplot\u001b[0m\u001b[0;34m[\u001b[0m\u001b[0;36m0\u001b[0m\u001b[0;34m]\u001b[0m\u001b[0;34m,\u001b[0m \u001b[0mmyplot\u001b[0m\u001b[0;34m[\u001b[0m\u001b[0;36m1\u001b[0m\u001b[0;34m]\u001b[0m\u001b[0;34m-\u001b[0m\u001b[0mdfname\u001b[0m\u001b[0;34m[\u001b[0m\u001b[0;34m\"y\"\u001b[0m\u001b[0;34m]\u001b[0m\u001b[0;34m.\u001b[0m\u001b[0miloc\u001b[0m\u001b[0;34m[\u001b[0m\u001b[0;34m-\u001b[0m\u001b[0;36m1\u001b[0m\u001b[0;34m]\u001b[0m\u001b[0;34m)\u001b[0m\u001b[0;34m\u001b[0m\u001b[0;34m\u001b[0m\u001b[0m\n",
      "\u001b[0;32m/opt/nesi/CS400_centos7_bdw/JupyterLab/2.2.4-gimkl-2018b-Python-3.8.1/lib/python3.8/site-packages/pandas/core/series.py\u001b[0m in \u001b[0;36m__getitem__\u001b[0;34m(self, key)\u001b[0m\n\u001b[1;32m    866\u001b[0m         \u001b[0;32mreturn\u001b[0m \u001b[0mself\u001b[0m\u001b[0;34m.\u001b[0m\u001b[0m_get_values\u001b[0m\u001b[0;34m(\u001b[0m\u001b[0mslobj\u001b[0m\u001b[0;34m)\u001b[0m\u001b[0;34m\u001b[0m\u001b[0;34m\u001b[0m\u001b[0m\n\u001b[1;32m    867\u001b[0m \u001b[0;34m\u001b[0m\u001b[0m\n\u001b[0;32m--> 868\u001b[0;31m     \u001b[0;32mdef\u001b[0m \u001b[0m__getitem__\u001b[0m\u001b[0;34m(\u001b[0m\u001b[0mself\u001b[0m\u001b[0;34m,\u001b[0m \u001b[0mkey\u001b[0m\u001b[0;34m)\u001b[0m\u001b[0;34m:\u001b[0m\u001b[0;34m\u001b[0m\u001b[0;34m\u001b[0m\u001b[0m\n\u001b[0m\u001b[1;32m    869\u001b[0m         \u001b[0mkey\u001b[0m \u001b[0;34m=\u001b[0m \u001b[0mcom\u001b[0m\u001b[0;34m.\u001b[0m\u001b[0mapply_if_callable\u001b[0m\u001b[0;34m(\u001b[0m\u001b[0mkey\u001b[0m\u001b[0;34m,\u001b[0m \u001b[0mself\u001b[0m\u001b[0;34m)\u001b[0m\u001b[0;34m\u001b[0m\u001b[0;34m\u001b[0m\u001b[0m\n\u001b[1;32m    870\u001b[0m \u001b[0;34m\u001b[0m\u001b[0m\n",
      "\u001b[0;31mKeyboardInterrupt\u001b[0m: "
     ]
    }
   ],
   "source": [
    "\n",
    "for Hi in [39.5]:\n",
    "    for visc in [0.1,0.01]:\n",
    "        for b in [0.0,0.001,0.005,0.01,0.02,0.04,1]:\n",
    "            get_all_elevations(Hi, visc, b)\n",
    "    "
   ]
  },
  {
   "cell_type": "code",
   "execution_count": 127,
   "metadata": {},
   "outputs": [
    {
     "name": "stdout",
     "output_type": "stream",
     "text": [
      "39.5_0.1/b_0.02_11/\n"
     ]
    }
   ],
   "source": [
    "print(myfolder)"
   ]
  },
  {
   "cell_type": "code",
   "execution_count": null,
   "metadata": {},
   "outputs": [],
   "source": []
  },
  {
   "cell_type": "code",
   "execution_count": 128,
   "metadata": {},
   "outputs": [],
   "source": [
    "import plotly.graph_objects as go"
   ]
  },
  {
   "cell_type": "code",
   "execution_count": 136,
   "metadata": {},
   "outputs": [
    {
     "data": {
      "application/vnd.plotly.v1+json": {
       "config": {
        "plotlyServerURL": "https://plot.ly"
       },
       "data": [
        {
         "mode": "markers",
         "type": "scatter",
         "x": [
          0.10999999999999999,
          0.13999999999999999,
          0.15,
          0.49000000000000027,
          1.1400000000000008,
          1.7600000000000013,
          1.8300000000000014,
          2.010000000000001,
          2.06,
          2.07,
          2.0799999999999996,
          2.109999999999999,
          2.1199999999999988,
          2.1799999999999975,
          2.2299999999999964,
          2.239999999999996,
          2.259999999999996,
          2.2799999999999954,
          2.389999999999993,
          2.53999999999999,
          2.6099999999999883,
          2.6899999999999866,
          2.709999999999986,
          2.7499999999999853,
          2.8399999999999834,
          3.0199999999999796,
          3.049999999999979,
          3.0599999999999787,
          3.0799999999999783,
          3.089999999999978,
          3.3399999999999728,
          3.3999999999999715,
          3.46999999999997,
          3.47999999999997,
          3.5299999999999687,
          3.559999999999968,
          3.699999999999965,
          3.7399999999999642,
          3.7699999999999636
         ],
         "y": [
          -0.0002,
          0.0012,
          0.0013,
          0,
          -0.0003,
          0.0018,
          -0.0001,
          0.0062,
          0.0084,
          0.0183,
          0.0196,
          0.0208,
          0.0201,
          0.1018,
          0.0851,
          0.0574,
          0.0325,
          0.0438,
          0.0555,
          0.1284,
          0.1096,
          0.062,
          0.023,
          0.0643,
          0.0619,
          0.1136,
          0.0494,
          0.0578,
          0.0449,
          0.0418,
          -0.5199,
          -0.4024,
          -0.2614,
          -0.4239,
          -0.3949,
          -0.3951,
          -0.4249,
          -0.3928,
          -0.0037
         ]
        }
       ],
       "layout": {
        "autosize": true,
        "template": {
         "data": {
          "bar": [
           {
            "error_x": {
             "color": "#2a3f5f"
            },
            "error_y": {
             "color": "#2a3f5f"
            },
            "marker": {
             "line": {
              "color": "#E5ECF6",
              "width": 0.5
             }
            },
            "type": "bar"
           }
          ],
          "barpolar": [
           {
            "marker": {
             "line": {
              "color": "#E5ECF6",
              "width": 0.5
             }
            },
            "type": "barpolar"
           }
          ],
          "carpet": [
           {
            "aaxis": {
             "endlinecolor": "#2a3f5f",
             "gridcolor": "white",
             "linecolor": "white",
             "minorgridcolor": "white",
             "startlinecolor": "#2a3f5f"
            },
            "baxis": {
             "endlinecolor": "#2a3f5f",
             "gridcolor": "white",
             "linecolor": "white",
             "minorgridcolor": "white",
             "startlinecolor": "#2a3f5f"
            },
            "type": "carpet"
           }
          ],
          "choropleth": [
           {
            "colorbar": {
             "outlinewidth": 0,
             "ticks": ""
            },
            "type": "choropleth"
           }
          ],
          "contour": [
           {
            "colorbar": {
             "outlinewidth": 0,
             "ticks": ""
            },
            "colorscale": [
             [
              0,
              "#0d0887"
             ],
             [
              0.1111111111111111,
              "#46039f"
             ],
             [
              0.2222222222222222,
              "#7201a8"
             ],
             [
              0.3333333333333333,
              "#9c179e"
             ],
             [
              0.4444444444444444,
              "#bd3786"
             ],
             [
              0.5555555555555556,
              "#d8576b"
             ],
             [
              0.6666666666666666,
              "#ed7953"
             ],
             [
              0.7777777777777778,
              "#fb9f3a"
             ],
             [
              0.8888888888888888,
              "#fdca26"
             ],
             [
              1,
              "#f0f921"
             ]
            ],
            "type": "contour"
           }
          ],
          "contourcarpet": [
           {
            "colorbar": {
             "outlinewidth": 0,
             "ticks": ""
            },
            "type": "contourcarpet"
           }
          ],
          "heatmap": [
           {
            "colorbar": {
             "outlinewidth": 0,
             "ticks": ""
            },
            "colorscale": [
             [
              0,
              "#0d0887"
             ],
             [
              0.1111111111111111,
              "#46039f"
             ],
             [
              0.2222222222222222,
              "#7201a8"
             ],
             [
              0.3333333333333333,
              "#9c179e"
             ],
             [
              0.4444444444444444,
              "#bd3786"
             ],
             [
              0.5555555555555556,
              "#d8576b"
             ],
             [
              0.6666666666666666,
              "#ed7953"
             ],
             [
              0.7777777777777778,
              "#fb9f3a"
             ],
             [
              0.8888888888888888,
              "#fdca26"
             ],
             [
              1,
              "#f0f921"
             ]
            ],
            "type": "heatmap"
           }
          ],
          "heatmapgl": [
           {
            "colorbar": {
             "outlinewidth": 0,
             "ticks": ""
            },
            "colorscale": [
             [
              0,
              "#0d0887"
             ],
             [
              0.1111111111111111,
              "#46039f"
             ],
             [
              0.2222222222222222,
              "#7201a8"
             ],
             [
              0.3333333333333333,
              "#9c179e"
             ],
             [
              0.4444444444444444,
              "#bd3786"
             ],
             [
              0.5555555555555556,
              "#d8576b"
             ],
             [
              0.6666666666666666,
              "#ed7953"
             ],
             [
              0.7777777777777778,
              "#fb9f3a"
             ],
             [
              0.8888888888888888,
              "#fdca26"
             ],
             [
              1,
              "#f0f921"
             ]
            ],
            "type": "heatmapgl"
           }
          ],
          "histogram": [
           {
            "marker": {
             "colorbar": {
              "outlinewidth": 0,
              "ticks": ""
             }
            },
            "type": "histogram"
           }
          ],
          "histogram2d": [
           {
            "colorbar": {
             "outlinewidth": 0,
             "ticks": ""
            },
            "colorscale": [
             [
              0,
              "#0d0887"
             ],
             [
              0.1111111111111111,
              "#46039f"
             ],
             [
              0.2222222222222222,
              "#7201a8"
             ],
             [
              0.3333333333333333,
              "#9c179e"
             ],
             [
              0.4444444444444444,
              "#bd3786"
             ],
             [
              0.5555555555555556,
              "#d8576b"
             ],
             [
              0.6666666666666666,
              "#ed7953"
             ],
             [
              0.7777777777777778,
              "#fb9f3a"
             ],
             [
              0.8888888888888888,
              "#fdca26"
             ],
             [
              1,
              "#f0f921"
             ]
            ],
            "type": "histogram2d"
           }
          ],
          "histogram2dcontour": [
           {
            "colorbar": {
             "outlinewidth": 0,
             "ticks": ""
            },
            "colorscale": [
             [
              0,
              "#0d0887"
             ],
             [
              0.1111111111111111,
              "#46039f"
             ],
             [
              0.2222222222222222,
              "#7201a8"
             ],
             [
              0.3333333333333333,
              "#9c179e"
             ],
             [
              0.4444444444444444,
              "#bd3786"
             ],
             [
              0.5555555555555556,
              "#d8576b"
             ],
             [
              0.6666666666666666,
              "#ed7953"
             ],
             [
              0.7777777777777778,
              "#fb9f3a"
             ],
             [
              0.8888888888888888,
              "#fdca26"
             ],
             [
              1,
              "#f0f921"
             ]
            ],
            "type": "histogram2dcontour"
           }
          ],
          "mesh3d": [
           {
            "colorbar": {
             "outlinewidth": 0,
             "ticks": ""
            },
            "type": "mesh3d"
           }
          ],
          "parcoords": [
           {
            "line": {
             "colorbar": {
              "outlinewidth": 0,
              "ticks": ""
             }
            },
            "type": "parcoords"
           }
          ],
          "pie": [
           {
            "automargin": true,
            "type": "pie"
           }
          ],
          "scatter": [
           {
            "marker": {
             "colorbar": {
              "outlinewidth": 0,
              "ticks": ""
             }
            },
            "type": "scatter"
           }
          ],
          "scatter3d": [
           {
            "line": {
             "colorbar": {
              "outlinewidth": 0,
              "ticks": ""
             }
            },
            "marker": {
             "colorbar": {
              "outlinewidth": 0,
              "ticks": ""
             }
            },
            "type": "scatter3d"
           }
          ],
          "scattercarpet": [
           {
            "marker": {
             "colorbar": {
              "outlinewidth": 0,
              "ticks": ""
             }
            },
            "type": "scattercarpet"
           }
          ],
          "scattergeo": [
           {
            "marker": {
             "colorbar": {
              "outlinewidth": 0,
              "ticks": ""
             }
            },
            "type": "scattergeo"
           }
          ],
          "scattergl": [
           {
            "marker": {
             "colorbar": {
              "outlinewidth": 0,
              "ticks": ""
             }
            },
            "type": "scattergl"
           }
          ],
          "scattermapbox": [
           {
            "marker": {
             "colorbar": {
              "outlinewidth": 0,
              "ticks": ""
             }
            },
            "type": "scattermapbox"
           }
          ],
          "scatterpolar": [
           {
            "marker": {
             "colorbar": {
              "outlinewidth": 0,
              "ticks": ""
             }
            },
            "type": "scatterpolar"
           }
          ],
          "scatterpolargl": [
           {
            "marker": {
             "colorbar": {
              "outlinewidth": 0,
              "ticks": ""
             }
            },
            "type": "scatterpolargl"
           }
          ],
          "scatterternary": [
           {
            "marker": {
             "colorbar": {
              "outlinewidth": 0,
              "ticks": ""
             }
            },
            "type": "scatterternary"
           }
          ],
          "surface": [
           {
            "colorbar": {
             "outlinewidth": 0,
             "ticks": ""
            },
            "colorscale": [
             [
              0,
              "#0d0887"
             ],
             [
              0.1111111111111111,
              "#46039f"
             ],
             [
              0.2222222222222222,
              "#7201a8"
             ],
             [
              0.3333333333333333,
              "#9c179e"
             ],
             [
              0.4444444444444444,
              "#bd3786"
             ],
             [
              0.5555555555555556,
              "#d8576b"
             ],
             [
              0.6666666666666666,
              "#ed7953"
             ],
             [
              0.7777777777777778,
              "#fb9f3a"
             ],
             [
              0.8888888888888888,
              "#fdca26"
             ],
             [
              1,
              "#f0f921"
             ]
            ],
            "type": "surface"
           }
          ],
          "table": [
           {
            "cells": {
             "fill": {
              "color": "#EBF0F8"
             },
             "line": {
              "color": "white"
             }
            },
            "header": {
             "fill": {
              "color": "#C8D4E3"
             },
             "line": {
              "color": "white"
             }
            },
            "type": "table"
           }
          ]
         },
         "layout": {
          "annotationdefaults": {
           "arrowcolor": "#2a3f5f",
           "arrowhead": 0,
           "arrowwidth": 1
          },
          "coloraxis": {
           "colorbar": {
            "outlinewidth": 0,
            "ticks": ""
           }
          },
          "colorscale": {
           "diverging": [
            [
             0,
             "#8e0152"
            ],
            [
             0.1,
             "#c51b7d"
            ],
            [
             0.2,
             "#de77ae"
            ],
            [
             0.3,
             "#f1b6da"
            ],
            [
             0.4,
             "#fde0ef"
            ],
            [
             0.5,
             "#f7f7f7"
            ],
            [
             0.6,
             "#e6f5d0"
            ],
            [
             0.7,
             "#b8e186"
            ],
            [
             0.8,
             "#7fbc41"
            ],
            [
             0.9,
             "#4d9221"
            ],
            [
             1,
             "#276419"
            ]
           ],
           "sequential": [
            [
             0,
             "#0d0887"
            ],
            [
             0.1111111111111111,
             "#46039f"
            ],
            [
             0.2222222222222222,
             "#7201a8"
            ],
            [
             0.3333333333333333,
             "#9c179e"
            ],
            [
             0.4444444444444444,
             "#bd3786"
            ],
            [
             0.5555555555555556,
             "#d8576b"
            ],
            [
             0.6666666666666666,
             "#ed7953"
            ],
            [
             0.7777777777777778,
             "#fb9f3a"
            ],
            [
             0.8888888888888888,
             "#fdca26"
            ],
            [
             1,
             "#f0f921"
            ]
           ],
           "sequentialminus": [
            [
             0,
             "#0d0887"
            ],
            [
             0.1111111111111111,
             "#46039f"
            ],
            [
             0.2222222222222222,
             "#7201a8"
            ],
            [
             0.3333333333333333,
             "#9c179e"
            ],
            [
             0.4444444444444444,
             "#bd3786"
            ],
            [
             0.5555555555555556,
             "#d8576b"
            ],
            [
             0.6666666666666666,
             "#ed7953"
            ],
            [
             0.7777777777777778,
             "#fb9f3a"
            ],
            [
             0.8888888888888888,
             "#fdca26"
            ],
            [
             1,
             "#f0f921"
            ]
           ]
          },
          "colorway": [
           "#636efa",
           "#EF553B",
           "#00cc96",
           "#ab63fa",
           "#FFA15A",
           "#19d3f3",
           "#FF6692",
           "#B6E880",
           "#FF97FF",
           "#FECB52"
          ],
          "font": {
           "color": "#2a3f5f"
          },
          "geo": {
           "bgcolor": "white",
           "lakecolor": "white",
           "landcolor": "#E5ECF6",
           "showlakes": true,
           "showland": true,
           "subunitcolor": "white"
          },
          "hoverlabel": {
           "align": "left"
          },
          "hovermode": "closest",
          "mapbox": {
           "style": "light"
          },
          "paper_bgcolor": "white",
          "plot_bgcolor": "#E5ECF6",
          "polar": {
           "angularaxis": {
            "gridcolor": "white",
            "linecolor": "white",
            "ticks": ""
           },
           "bgcolor": "#E5ECF6",
           "radialaxis": {
            "gridcolor": "white",
            "linecolor": "white",
            "ticks": ""
           }
          },
          "scene": {
           "xaxis": {
            "backgroundcolor": "#E5ECF6",
            "gridcolor": "white",
            "gridwidth": 2,
            "linecolor": "white",
            "showbackground": true,
            "ticks": "",
            "zerolinecolor": "white"
           },
           "yaxis": {
            "backgroundcolor": "#E5ECF6",
            "gridcolor": "white",
            "gridwidth": 2,
            "linecolor": "white",
            "showbackground": true,
            "ticks": "",
            "zerolinecolor": "white"
           },
           "zaxis": {
            "backgroundcolor": "#E5ECF6",
            "gridcolor": "white",
            "gridwidth": 2,
            "linecolor": "white",
            "showbackground": true,
            "ticks": "",
            "zerolinecolor": "white"
           }
          },
          "shapedefaults": {
           "line": {
            "color": "#2a3f5f"
           }
          },
          "ternary": {
           "aaxis": {
            "gridcolor": "white",
            "linecolor": "white",
            "ticks": ""
           },
           "baxis": {
            "gridcolor": "white",
            "linecolor": "white",
            "ticks": ""
           },
           "bgcolor": "#E5ECF6",
           "caxis": {
            "gridcolor": "white",
            "linecolor": "white",
            "ticks": ""
           }
          },
          "title": {
           "x": 0.05
          },
          "xaxis": {
           "automargin": true,
           "gridcolor": "white",
           "linecolor": "white",
           "ticks": "",
           "title": {
            "standoff": 15
           },
           "zerolinecolor": "white",
           "zerolinewidth": 2
          },
          "yaxis": {
           "automargin": true,
           "gridcolor": "white",
           "linecolor": "white",
           "ticks": "",
           "title": {
            "standoff": 15
           },
           "zerolinecolor": "white",
           "zerolinewidth": 2
          }
         }
        },
        "xaxis": {
         "autorange": true,
         "range": [
          -0.1336133122028502,
          4.013613312202814
         ],
         "type": "linear"
        },
        "yaxis": {
         "autorange": true,
         "range": [
          -0.5673869426751592,
          0.17588694267515922
         ],
         "type": "linear"
        }
       }
      },
      "image/png": "[encoded data removed]",
      "text/html": [
       "<div>\n",
       "        \n",
       "        \n",
       "            <div id=\"dd87ab75-e47f-41cd-a52e-4671747fb45b\" class=\"plotly-graph-div\" style=\"height:525px; width:100%;\"></div>\n",
       "            <script type=\"text/javascript\">\n",
       "                require([\"plotly\"], function(Plotly) {\n",
       "                    window.PLOTLYENV=window.PLOTLYENV || {};\n",
       "                    \n",
       "                if (document.getElementById(\"dd87ab75-e47f-41cd-a52e-4671747fb45b\")) {\n",
       "                    Plotly.newPlot(\n",
       "                        'dd87ab75-e47f-41cd-a52e-4671747fb45b',\n",
       "                        [{\"mode\": \"markers\", \"type\": \"scatter\", \"x\": [0.10999999999999999, 0.13999999999999999, 0.15, 0.49000000000000027, 1.1400000000000008, 1.7600000000000013, 1.8300000000000014, 2.010000000000001, 2.06, 2.07, 2.0799999999999996, 2.109999999999999, 2.1199999999999988, 2.1799999999999975, 2.2299999999999964, 2.239999999999996, 2.259999999999996, 2.2799999999999954, 2.389999999999993, 2.53999999999999, 2.6099999999999883, 2.6899999999999866, 2.709999999999986, 2.7499999999999853, 2.8399999999999834, 3.0199999999999796, 3.049999999999979, 3.0599999999999787, 3.0799999999999783, 3.089999999999978, 3.3399999999999728, 3.3999999999999715, 3.46999999999997, 3.47999999999997, 3.5299999999999687, 3.559999999999968, 3.699999999999965, 3.7399999999999642, 3.7699999999999636], \"y\": [-0.0002, 0.0012, 0.0013, -0.0, -0.0003, 0.0018, -0.0001, 0.0062, 0.0084, 0.0183, 0.0196, 0.0208, 0.0201, 0.1018, 0.0851, 0.0574, 0.0325, 0.0438, 0.0555, 0.1284, 0.1096, 0.062, 0.023, 0.0643, 0.0619, 0.1136, 0.0494, 0.0578, 0.0449, 0.0418, -0.5199, -0.4024, -0.2614, -0.4239, -0.3949, -0.3951, -0.4249, -0.3928, -0.0037]}],\n",
       "                        {\"template\": {\"data\": {\"bar\": [{\"error_x\": {\"color\": \"#2a3f5f\"}, \"error_y\": {\"color\": \"#2a3f5f\"}, \"marker\": {\"line\": {\"color\": \"#E5ECF6\", \"width\": 0.5}}, \"type\": \"bar\"}], \"barpolar\": [{\"marker\": {\"line\": {\"color\": \"#E5ECF6\", \"width\": 0.5}}, \"type\": \"barpolar\"}], \"carpet\": [{\"aaxis\": {\"endlinecolor\": \"#2a3f5f\", \"gridcolor\": \"white\", \"linecolor\": \"white\", \"minorgridcolor\": \"white\", \"startlinecolor\": \"#2a3f5f\"}, \"baxis\": {\"endlinecolor\": \"#2a3f5f\", \"gridcolor\": \"white\", \"linecolor\": \"white\", \"minorgridcolor\": \"white\", \"startlinecolor\": \"#2a3f5f\"}, \"type\": \"carpet\"}], \"choropleth\": [{\"colorbar\": {\"outlinewidth\": 0, \"ticks\": \"\"}, \"type\": \"choropleth\"}], \"contour\": [{\"colorbar\": {\"outlinewidth\": 0, \"ticks\": \"\"}, \"colorscale\": [[0.0, \"#0d0887\"], [0.1111111111111111, \"#46039f\"], [0.2222222222222222, \"#7201a8\"], [0.3333333333333333, \"#9c179e\"], [0.4444444444444444, \"#bd3786\"], [0.5555555555555556, \"#d8576b\"], [0.6666666666666666, \"#ed7953\"], [0.7777777777777778, \"#fb9f3a\"], [0.8888888888888888, \"#fdca26\"], [1.0, \"#f0f921\"]], \"type\": \"contour\"}], \"contourcarpet\": [{\"colorbar\": {\"outlinewidth\": 0, \"ticks\": \"\"}, \"type\": \"contourcarpet\"}], \"heatmap\": [{\"colorbar\": {\"outlinewidth\": 0, \"ticks\": \"\"}, \"colorscale\": [[0.0, \"#0d0887\"], [0.1111111111111111, \"#46039f\"], [0.2222222222222222, \"#7201a8\"], [0.3333333333333333, \"#9c179e\"], [0.4444444444444444, \"#bd3786\"], [0.5555555555555556, \"#d8576b\"], [0.6666666666666666, \"#ed7953\"], [0.7777777777777778, \"#fb9f3a\"], [0.8888888888888888, \"#fdca26\"], [1.0, \"#f0f921\"]], \"type\": \"heatmap\"}], \"heatmapgl\": [{\"colorbar\": {\"outlinewidth\": 0, \"ticks\": \"\"}, \"colorscale\": [[0.0, \"#0d0887\"], [0.1111111111111111, \"#46039f\"], [0.2222222222222222, \"#7201a8\"], [0.3333333333333333, \"#9c179e\"], [0.4444444444444444, \"#bd3786\"], [0.5555555555555556, \"#d8576b\"], [0.6666666666666666, \"#ed7953\"], [0.7777777777777778, \"#fb9f3a\"], [0.8888888888888888, \"#fdca26\"], [1.0, \"#f0f921\"]], \"type\": \"heatmapgl\"}], \"histogram\": [{\"marker\": {\"colorbar\": {\"outlinewidth\": 0, \"ticks\": \"\"}}, \"type\": \"histogram\"}], \"histogram2d\": [{\"colorbar\": {\"outlinewidth\": 0, \"ticks\": \"\"}, \"colorscale\": [[0.0, \"#0d0887\"], [0.1111111111111111, \"#46039f\"], [0.2222222222222222, \"#7201a8\"], [0.3333333333333333, \"#9c179e\"], [0.4444444444444444, \"#bd3786\"], [0.5555555555555556, \"#d8576b\"], [0.6666666666666666, \"#ed7953\"], [0.7777777777777778, \"#fb9f3a\"], [0.8888888888888888, \"#fdca26\"], [1.0, \"#f0f921\"]], \"type\": \"histogram2d\"}], \"histogram2dcontour\": [{\"colorbar\": {\"outlinewidth\": 0, \"ticks\": \"\"}, \"colorscale\": [[0.0, \"#0d0887\"], [0.1111111111111111, \"#46039f\"], [0.2222222222222222, \"#7201a8\"], [0.3333333333333333, \"#9c179e\"], [0.4444444444444444, \"#bd3786\"], [0.5555555555555556, \"#d8576b\"], [0.6666666666666666, \"#ed7953\"], [0.7777777777777778, \"#fb9f3a\"], [0.8888888888888888, \"#fdca26\"], [1.0, \"#f0f921\"]], \"type\": \"histogram2dcontour\"}], \"mesh3d\": [{\"colorbar\": {\"outlinewidth\": 0, \"ticks\": \"\"}, \"type\": \"mesh3d\"}], \"parcoords\": [{\"line\": {\"colorbar\": {\"outlinewidth\": 0, \"ticks\": \"\"}}, \"type\": \"parcoords\"}], \"pie\": [{\"automargin\": true, \"type\": \"pie\"}], \"scatter\": [{\"marker\": {\"colorbar\": {\"outlinewidth\": 0, \"ticks\": \"\"}}, \"type\": \"scatter\"}], \"scatter3d\": [{\"line\": {\"colorbar\": {\"outlinewidth\": 0, \"ticks\": \"\"}}, \"marker\": {\"colorbar\": {\"outlinewidth\": 0, \"ticks\": \"\"}}, \"type\": \"scatter3d\"}], \"scattercarpet\": [{\"marker\": {\"colorbar\": {\"outlinewidth\": 0, \"ticks\": \"\"}}, \"type\": \"scattercarpet\"}], \"scattergeo\": [{\"marker\": {\"colorbar\": {\"outlinewidth\": 0, \"ticks\": \"\"}}, \"type\": \"scattergeo\"}], \"scattergl\": [{\"marker\": {\"colorbar\": {\"outlinewidth\": 0, \"ticks\": \"\"}}, \"type\": \"scattergl\"}], \"scattermapbox\": [{\"marker\": {\"colorbar\": {\"outlinewidth\": 0, \"ticks\": \"\"}}, \"type\": \"scattermapbox\"}], \"scatterpolar\": [{\"marker\": {\"colorbar\": {\"outlinewidth\": 0, \"ticks\": \"\"}}, \"type\": \"scatterpolar\"}], \"scatterpolargl\": [{\"marker\": {\"colorbar\": {\"outlinewidth\": 0, \"ticks\": \"\"}}, \"type\": \"scatterpolargl\"}], \"scatterternary\": [{\"marker\": {\"colorbar\": {\"outlinewidth\": 0, \"ticks\": \"\"}}, \"type\": \"scatterternary\"}], \"surface\": [{\"colorbar\": {\"outlinewidth\": 0, \"ticks\": \"\"}, \"colorscale\": [[0.0, \"#0d0887\"], [0.1111111111111111, \"#46039f\"], [0.2222222222222222, \"#7201a8\"], [0.3333333333333333, \"#9c179e\"], [0.4444444444444444, \"#bd3786\"], [0.5555555555555556, \"#d8576b\"], [0.6666666666666666, \"#ed7953\"], [0.7777777777777778, \"#fb9f3a\"], [0.8888888888888888, \"#fdca26\"], [1.0, \"#f0f921\"]], \"type\": \"surface\"}], \"table\": [{\"cells\": {\"fill\": {\"color\": \"#EBF0F8\"}, \"line\": {\"color\": \"white\"}}, \"header\": {\"fill\": {\"color\": \"#C8D4E3\"}, \"line\": {\"color\": \"white\"}}, \"type\": \"table\"}]}, \"layout\": {\"annotationdefaults\": {\"arrowcolor\": \"#2a3f5f\", \"arrowhead\": 0, \"arrowwidth\": 1}, \"coloraxis\": {\"colorbar\": {\"outlinewidth\": 0, \"ticks\": \"\"}}, \"colorscale\": {\"diverging\": [[0, \"#8e0152\"], [0.1, \"#c51b7d\"], [0.2, \"#de77ae\"], [0.3, \"#f1b6da\"], [0.4, \"#fde0ef\"], [0.5, \"#f7f7f7\"], [0.6, \"#e6f5d0\"], [0.7, \"#b8e186\"], [0.8, \"#7fbc41\"], [0.9, \"#4d9221\"], [1, \"#276419\"]], \"sequential\": [[0.0, \"#0d0887\"], [0.1111111111111111, \"#46039f\"], [0.2222222222222222, \"#7201a8\"], [0.3333333333333333, \"#9c179e\"], [0.4444444444444444, \"#bd3786\"], [0.5555555555555556, \"#d8576b\"], [0.6666666666666666, \"#ed7953\"], [0.7777777777777778, \"#fb9f3a\"], [0.8888888888888888, \"#fdca26\"], [1.0, \"#f0f921\"]], \"sequentialminus\": [[0.0, \"#0d0887\"], [0.1111111111111111, \"#46039f\"], [0.2222222222222222, \"#7201a8\"], [0.3333333333333333, \"#9c179e\"], [0.4444444444444444, \"#bd3786\"], [0.5555555555555556, \"#d8576b\"], [0.6666666666666666, \"#ed7953\"], [0.7777777777777778, \"#fb9f3a\"], [0.8888888888888888, \"#fdca26\"], [1.0, \"#f0f921\"]]}, \"colorway\": [\"#636efa\", \"#EF553B\", \"#00cc96\", \"#ab63fa\", \"#FFA15A\", \"#19d3f3\", \"#FF6692\", \"#B6E880\", \"#FF97FF\", \"#FECB52\"], \"font\": {\"color\": \"#2a3f5f\"}, \"geo\": {\"bgcolor\": \"white\", \"lakecolor\": \"white\", \"landcolor\": \"#E5ECF6\", \"showlakes\": true, \"showland\": true, \"subunitcolor\": \"white\"}, \"hoverlabel\": {\"align\": \"left\"}, \"hovermode\": \"closest\", \"mapbox\": {\"style\": \"light\"}, \"paper_bgcolor\": \"white\", \"plot_bgcolor\": \"#E5ECF6\", \"polar\": {\"angularaxis\": {\"gridcolor\": \"white\", \"linecolor\": \"white\", \"ticks\": \"\"}, \"bgcolor\": \"#E5ECF6\", \"radialaxis\": {\"gridcolor\": \"white\", \"linecolor\": \"white\", \"ticks\": \"\"}}, \"scene\": {\"xaxis\": {\"backgroundcolor\": \"#E5ECF6\", \"gridcolor\": \"white\", \"gridwidth\": 2, \"linecolor\": \"white\", \"showbackground\": true, \"ticks\": \"\", \"zerolinecolor\": \"white\"}, \"yaxis\": {\"backgroundcolor\": \"#E5ECF6\", \"gridcolor\": \"white\", \"gridwidth\": 2, \"linecolor\": \"white\", \"showbackground\": true, \"ticks\": \"\", \"zerolinecolor\": \"white\"}, \"zaxis\": {\"backgroundcolor\": \"#E5ECF6\", \"gridcolor\": \"white\", \"gridwidth\": 2, \"linecolor\": \"white\", \"showbackground\": true, \"ticks\": \"\", \"zerolinecolor\": \"white\"}}, \"shapedefaults\": {\"line\": {\"color\": \"#2a3f5f\"}}, \"ternary\": {\"aaxis\": {\"gridcolor\": \"white\", \"linecolor\": \"white\", \"ticks\": \"\"}, \"baxis\": {\"gridcolor\": \"white\", \"linecolor\": \"white\", \"ticks\": \"\"}, \"bgcolor\": \"#E5ECF6\", \"caxis\": {\"gridcolor\": \"white\", \"linecolor\": \"white\", \"ticks\": \"\"}}, \"title\": {\"x\": 0.05}, \"xaxis\": {\"automargin\": true, \"gridcolor\": \"white\", \"linecolor\": \"white\", \"ticks\": \"\", \"title\": {\"standoff\": 15}, \"zerolinecolor\": \"white\", \"zerolinewidth\": 2}, \"yaxis\": {\"automargin\": true, \"gridcolor\": \"white\", \"linecolor\": \"white\", \"ticks\": \"\", \"title\": {\"standoff\": 15}, \"zerolinecolor\": \"white\", \"zerolinewidth\": 2}}}},\n",
       "                        {\"responsive\": true}\n",
       "                    ).then(function(){\n",
       "                            \n",
       "var gd = document.getElementById('dd87ab75-e47f-41cd-a52e-4671747fb45b');\n",
       "var x = new MutationObserver(function (mutations, observer) {{\n",
       "        var display = window.getComputedStyle(gd).display;\n",
       "        if (!display || display === 'none') {{\n",
       "            console.log([gd, 'removed!']);\n",
       "            Plotly.purge(gd);\n",
       "            observer.disconnect();\n",
       "        }}\n",
       "}});\n",
       "\n",
       "// Listen for the removal of the full notebook cells\n",
       "var notebookContainer = gd.closest('#notebook-container');\n",
       "if (notebookContainer) {{\n",
       "    x.observe(notebookContainer, {childList: true});\n",
       "}}\n",
       "\n",
       "// Listen for the clearing of the current output cell\n",
       "var outputEl = gd.closest('.output');\n",
       "if (outputEl) {{\n",
       "    x.observe(outputEl, {childList: true});\n",
       "}}\n",
       "\n",
       "                        })\n",
       "                };\n",
       "                });\n",
       "            </script>\n",
       "        </div>"
      ]
     },
     "metadata": {},
     "output_type": "display_data"
    }
   ],
   "source": [
    "x, y = zip(*myplot28)\n",
    "fig = go.Figure(data=go.Scatter(x=x, y=y, mode='markers'))\n",
    "fig.show()"
   ]
  },
  {
   "cell_type": "code",
   "execution_count": null,
   "metadata": {},
   "outputs": [],
   "source": [
    "\n"
   ]
  },
  {
   "cell_type": "code",
   "execution_count": null,
   "metadata": {},
   "outputs": [],
   "source": []
  },
  {
   "cell_type": "code",
   "execution_count": null,
   "metadata": {},
   "outputs": [],
   "source": []
  },
  {
   "cell_type": "code",
   "execution_count": null,
   "metadata": {},
   "outputs": [],
   "source": []
  }
 ],
 "metadata": {
  "kernelspec": {
   "display_name": "Python 3.8.1 (gimkl-2018b)",
   "language": "python",
   "name": "python3"
  },
  "language_info": {
   "codemirror_mode": {
    "name": "ipython",
    "version": 3
   },
   "file_extension": ".py",
   "mimetype": "text/x-python",
   "name": "python",
   "nbconvert_exporter": "python",
   "pygments_lexer": "ipython3",
   "version": "3.8.1"
  }
 },
 "nbformat": 4,
 "nbformat_minor": 4
}
